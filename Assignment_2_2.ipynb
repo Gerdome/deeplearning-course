{
  "nbformat": 4,
  "nbformat_minor": 0,
  "metadata": {
    "colab": {
      "name": "Copy of Assignment 2.2.ipynb",
      "provenance": [],
      "collapsed_sections": []
    },
    "kernelspec": {
      "name": "python3",
      "display_name": "Python 3"
    },
    "accelerator": "GPU"
  },
  "cells": [
    {
      "cell_type": "markdown",
      "metadata": {
        "colab_type": "text",
        "id": "uj4T8PEHGbMF"
      },
      "source": [
        "# Assignment 2"
      ]
    },
    {
      "cell_type": "markdown",
      "metadata": {
        "colab_type": "text",
        "id": "p-gkaM1tCThc"
      },
      "source": [
        "***\n",
        "## Question 2: Triplet networks & one-shot learning (10pt)\n",
        "\n",
        "In practice 4b.4, we train a Siamese network for one-shot learning task on the Omniglot dataset.  In this assignment, we will work on the same data set with the same task but extend it to triplet networks, we will also compare our model performance under different triplet selection method. The assignment contains the following 4 tasks"
      ]
    },
    {
      "cell_type": "markdown",
      "metadata": {
        "colab_type": "text",
        "id": "ZqdQgnI5AuN5"
      },
      "source": [
        "### Import packages and mount data\n",
        "Before everything, we need to import packages and mount data.\n",
        "\n",
        "*HINT: you could use the dataset in practice 4b.4 directly*"
      ]
    },
    {
      "cell_type": "code",
      "metadata": {
        "colab_type": "code",
        "id": "8QdDDUEIAuN6",
        "colab": {}
      },
      "source": [
        "import tensorflow as tf\n",
        "from tensorflow.keras import backend as K\n",
        "from tensorflow.keras.layers import Input, Conv2D, Lambda, Dense, Flatten, MaxPooling2D, Dropout,Concatenate, BatchNormalization\n",
        "from tensorflow.keras.models import Model, Sequential\n",
        "from tensorflow.keras.regularizers import l2\n",
        "from tensorflow.keras.optimizers import Adam\n",
        "from tensorflow.keras.losses import binary_crossentropy\n",
        "import numpy as np\n",
        "import os\n",
        "import pickle\n",
        "import matplotlib.pyplot as plt\n",
        "from sklearn.utils import shuffle"
      ],
      "execution_count": 0,
      "outputs": []
    },
    {
      "cell_type": "code",
      "metadata": {
        "colab_type": "code",
        "id": "NEy5u5WBAuN_",
        "outputId": "4fd745ee-2f4b-4689-e1f0-bb62dd68150c",
        "colab": {
          "base_uri": "https://localhost:8080/",
          "height": 159
        }
      },
      "source": [
        "PATH = os.path.join(\"drive\", \"My Drive\", \"2IMM10 Deep Learning\", \n",
        "                    \"data_DL_practical\", \"omniglot\")\n",
        "\n",
        "with open(os.path.join(PATH, \"omniglot_train.p\"), \"rb\") as f:\n",
        "    (X_train, c_train) = pickle.load(f)\n",
        "\n",
        "with open(os.path.join(PATH, \"omniglot_test.p\"), \"rb\") as f:\n",
        "    (X_test, c_test) = pickle.load(f)\n",
        "\n",
        "print(\"X_train shape:\", X_train.shape)\n",
        "print(\"X_test shape:\", X_test.shape)\n",
        "print(\"\")\n",
        "print(\"training alphabets\")\n",
        "print([key for key in c_train.keys()])\n",
        "print(\"test alphabets:\")\n",
        "print([key for key in c_test.keys()])"
      ],
      "execution_count": 0,
      "outputs": [
        {
          "output_type": "stream",
          "text": [
            "X_train shape: (964, 20, 105, 105)\n",
            "X_test shape: (659, 20, 105, 105)\n",
            "\n",
            "training alphabets\n",
            "['Braille', 'Anglo-Saxon_Futhorc', 'Tifinagh', 'Grantha', 'Burmese_(Myanmar)', 'Mkhedruli_(Georgian)', 'Latin', 'Ojibwe_(Canadian_Aboriginal_Syllabics)', 'Balinese', 'Malay_(Jawi_-_Arabic)', 'Early_Aramaic', 'Korean', 'Japanese_(hiragana)', 'Armenian', 'Cyrillic', 'Hebrew', 'Syriac_(Estrangelo)', 'Japanese_(katakana)', 'Blackfoot_(Canadian_Aboriginal_Syllabics)', 'N_Ko', 'Alphabet_of_the_Magi', 'Inuktitut_(Canadian_Aboriginal_Syllabics)', 'Greek', 'Bengali', 'Tagalog', 'Futurama', 'Arcadian', 'Gujarati', 'Asomtavruli_(Georgian)', 'Sanskrit']\n",
            "test alphabets:\n",
            "['ULOG', 'Atemayar_Qelisayer', 'Ge_ez', 'Gurmukhi', 'Tengwar', 'Keble', 'Malayalam', 'Oriya', 'Kannada', 'Mongolian', 'Angelic', 'Atlantean', 'Syriac_(Serto)', 'Aurek-Besh', 'Avesta', 'Glagolitic', 'Sylheti', 'Tibetan', 'Manipuri', 'Old_Church_Slavonic_(Cyrillic)']\n"
          ],
          "name": "stdout"
        }
      ]
    },
    {
      "cell_type": "markdown",
      "metadata": {
        "colab_type": "text",
        "id": "QP79HYQrXD2k"
      },
      "source": [
        "### Task 2.1: Build  the triplet network (3pt)"
      ]
    },
    {
      "cell_type": "markdown",
      "metadata": {
        "colab_type": "text",
        "id": "1WHpL8iHAuOH"
      },
      "source": [
        "We will define a triplet Network for use with the Omniglot dataset. Each branch of the triplet  is a \"convnet\" model that transforms data to an embeddings space. \n",
        "\n",
        "*HINT: you may need \"Concatenate\" from keras.layer to merge the output layer*"
      ]
    },
    {
      "cell_type": "code",
      "metadata": {
        "colab_type": "code",
        "id": "GQNaMa8hXD2l",
        "colab": {}
      },
      "source": [
        "# define a convnet model to transform data to an embeddings space. \n",
        "# === COMPLETE CODE BELOW ===\n",
        "input_shape = (105, 105, 1)\n",
        "\n",
        "convnet = Sequential(name=\"convnet\")\n",
        "convnet.add(Conv2D(64, (10,10), activation='relu', \n",
        "                   input_shape=input_shape, kernel_regularizer=l2(2e-4)))\n",
        "convnet.add(MaxPooling2D())\n",
        "convnet.add(BatchNormalization())\n",
        "convnet.add(Dropout(0.25))\n",
        "convnet.add(Conv2D(128, (7,7), activation='relu', kernel_regularizer=l2(2e-4)))\n",
        "convnet.add(MaxPooling2D())\n",
        "convnet.add(BatchNormalization())\n",
        "convnet.add(Dropout(0.25))\n",
        "convnet.add(Conv2D(128, (4,4), activation='relu', kernel_regularizer=l2(2e-4)))\n",
        "convnet.add(MaxPooling2D())\n",
        "convnet.add(BatchNormalization())\n",
        "convnet.add(Dropout(0.25))\n",
        "convnet.add(Conv2D(256, (4,4), activation='relu', kernel_regularizer=l2(2e-4)))\n",
        "convnet.add(Flatten())\n",
        "convnet.add(BatchNormalization())\n",
        "convnet.add(Dropout(0.25))\n",
        "convnet.add(Dense(4096, activation=\"sigmoid\", kernel_regularizer=l2(1e-3)))"
      ],
      "execution_count": 0,
      "outputs": []
    },
    {
      "cell_type": "code",
      "metadata": {
        "colab_type": "code",
        "id": "RXVuWeCsAuOI",
        "outputId": "ee544e77-88e4-4b83-bdce-beef121c0473",
        "colab": {
          "base_uri": "https://localhost:8080/",
          "height": 454
        }
      },
      "source": [
        "# define a Triplet network.\n",
        "\n",
        "# The anchor, positive, negative image are merged together, as the input \n",
        "# of the triplet network, then got split to get each one's neural codes.\n",
        "generated = Input(shape=(3,105, 105, 1), name='input')\n",
        "\n",
        "anchor  = Lambda(lambda x: x[:,0])(generated)\n",
        "pos     = Lambda(lambda x: x[:,1])(generated)\n",
        "neg     = Lambda(lambda x: x[:,2])(generated)\n",
        "                    \n",
        "anchor_embedding    = convnet(anchor)\n",
        "pos_embedding       = convnet(pos)\n",
        "neg_embedding       = convnet(neg)  \n",
        "\n",
        "# merge the anchor, positive, negative embedding together, \n",
        "# let the merged layer be the output of triplet network\n",
        "\n",
        "# === COMPLETE CODE BELOW ===\n",
        "merged_output = Concatenate(name=\"concatenate\")([anchor_embedding, \n",
        "                                                 pos_embedding, neg_embedding])\n",
        "\n",
        "triplet_net = Model(inputs=generated, outputs=merged_output)\n",
        "triplet_net.summary()"
      ],
      "execution_count": 0,
      "outputs": [
        {
          "output_type": "stream",
          "text": [
            "Model: \"model\"\n",
            "__________________________________________________________________________________________________\n",
            "Layer (type)                    Output Shape         Param #     Connected to                     \n",
            "==================================================================================================\n",
            "input (InputLayer)              [(None, 3, 105, 105, 0                                            \n",
            "__________________________________________________________________________________________________\n",
            "lambda (Lambda)                 (None, 105, 105, 1)  0           input[0][0]                      \n",
            "__________________________________________________________________________________________________\n",
            "lambda_1 (Lambda)               (None, 105, 105, 1)  0           input[0][0]                      \n",
            "__________________________________________________________________________________________________\n",
            "lambda_2 (Lambda)               (None, 105, 105, 1)  0           input[0][0]                      \n",
            "__________________________________________________________________________________________________\n",
            "convnet (Sequential)            (None, 4096)         38985792    lambda[0][0]                     \n",
            "                                                                 lambda_1[0][0]                   \n",
            "                                                                 lambda_2[0][0]                   \n",
            "__________________________________________________________________________________________________\n",
            "concatenate (Concatenate)       (None, 12288)        0           convnet[1][0]                    \n",
            "                                                                 convnet[2][0]                    \n",
            "                                                                 convnet[3][0]                    \n",
            "==================================================================================================\n",
            "Total params: 38,985,792\n",
            "Trainable params: 38,966,720\n",
            "Non-trainable params: 19,072\n",
            "__________________________________________________________________________________________________\n"
          ],
          "name": "stdout"
        }
      ]
    },
    {
      "cell_type": "code",
      "metadata": {
        "id": "LTF32aXqJwle",
        "colab_type": "code",
        "outputId": "e993ef7b-41af-49c9-84d8-81566ee572bc",
        "colab": {
          "base_uri": "https://localhost:8080/",
          "height": 369
        }
      },
      "source": [
        "from tensorflow.keras.utils import plot_model\n",
        "plot_model(triplet_net)"
      ],
      "execution_count": 0,
      "outputs": [
        {
          "output_type": "execute_result",
          "data": {
            "image/png": "[encoded data removed]",
            "text/plain": [
              "<IPython.core.display.Image object>"
            ]
          },
          "metadata": {
            "tags": []
          },
          "execution_count": 5
        }
      ]
    },
    {
      "cell_type": "markdown",
      "metadata": {
        "colab_type": "text",
        "id": "A-XyrIANAuOM"
      },
      "source": [
        "### Task 2.2: Define triplet loss (2pt)\n",
        "\n",
        "You can find the formula of the triplet loss function in our lecture note. When training our model, make sure the network achieves a smaller loss than the margin and the network does not collapse all representations to zero vectors. \n",
        "\n",
        "*HINT: If you experience problems to achieve this goal, it might be helpful to tinker the learning rate, you can also play with the margin value to get better performance*"
      ]
    },
    {
      "cell_type": "code",
      "metadata": {
        "colab_type": "code",
        "id": "mZ3v2Z0RAuON",
        "colab": {}
      },
      "source": [
        "import tensorflow as tf\n",
        "\n",
        "# Notice that the ground truth variable is not used for loss calculation. \n",
        "# It is used as a function argument to by-pass some Keras functionality.\n",
        "# This is because the network structure already implies the ground truth \n",
        "# for the anchor image with the \"positive\" image.\n",
        "def triplet_loss(ground_truth, network_output):\n",
        "    anchor, positive, negative = tf.split(network_output, \n",
        "                                          num_or_size_splits=3, axis=1)\n",
        "    # === COMPLETE CODE BELOW ===\n",
        "    margin = 0.2\n",
        "    # Subtract two embeddings, square the resulting vector\n",
        "    # and add up all values to form a scalar.\n",
        "    d_pos = tf.reduce_sum(tf.square(anchor - positive), 1)\n",
        "    d_neg = tf.reduce_sum(tf.square(anchor - negative), 1)\n",
        "    loss = tf.reduce_mean(tf.maximum(d_pos - d_neg + margin, 0.0))\n",
        "\n",
        "    return loss"
      ],
      "execution_count": 0,
      "outputs": []
    },
    {
      "cell_type": "code",
      "metadata": {
        "id": "3DPYHk2styA9",
        "colab_type": "code",
        "colab": {}
      },
      "source": [
        "triplet_net.compile(loss=triplet_loss, optimizer=\"adam\")\n",
        "unlearned_params = triplet_net.get_weights()"
      ],
      "execution_count": 0,
      "outputs": []
    },
    {
      "cell_type": "markdown",
      "metadata": {
        "colab_type": "text",
        "id": "H7Wo8uzTXD2v"
      },
      "source": [
        "### Task 2.3: Select triplets for training (3pt)"
      ]
    },
    {
      "cell_type": "markdown",
      "metadata": {
        "colab_type": "text",
        "id": "tSSr9IzTAuOX"
      },
      "source": [
        "#### Different  selection method\n",
        "\n",
        "We have two different options for the triplet selection method, and we will compare the model performance under these two methods after building our model.\n",
        "\n",
        "(1) Random  triplets selection, including the following steps:\n",
        "* Pick one random class for anchor\n",
        "* Pick two different random picture for this class, as the anchor and positive images\n",
        "* Pick another class for Negative, different from anchor_class\n",
        "* Pick one random picture from the negative class.\n",
        "\n",
        "(2) Hard triplets selection. For easy implement, for a picked anchor, positive pair, we will choose the hardest negative to form a hard triplet, that means, after picking an anchor, positive image, we will choose the negative image which is nearest from anchor image from a negative class, ie: \"- d(a,n)\"  can get the maximum value. The whole process including the following steps:\n",
        "* Pick one random class for anchor\n",
        "* Pick two different random picture for this class, as an anchor and positive images\n",
        "* Pick another class for negative, different from anchor_class\n",
        "* Pick one hardest picture from the negative class.\n",
        "\n",
        "*HINT: when picking the hardest negative, you may need the model.predict to get the embedding of images, the calculate the distances*"
      ]
    },
    {
      "cell_type": "code",
      "metadata": {
        "id": "yPDSZEqJ6Cz1",
        "colab_type": "code",
        "outputId": "b5d1bde6-6009-472a-f0cb-dec6426ba64c",
        "colab": {
          "base_uri": "https://localhost:8080/",
          "height": 34
        }
      },
      "source": [
        "print(triplet_net.get_layer(\"convnet\").get_input_at(0))"
      ],
      "execution_count": 0,
      "outputs": [
        {
          "output_type": "stream",
          "text": [
            "Tensor(\"conv2d_input:0\", shape=(None, 105, 105, 1), dtype=float32)\n"
          ],
          "name": "stdout"
        }
      ]
    },
    {
      "cell_type": "code",
      "metadata": {
        "id": "sn1Dv7fCIZxG",
        "colab_type": "code",
        "colab": {}
      },
      "source": [
        "def get_embedding_model(triplet_net):\n",
        "    embedding_model = Model(inputs=triplet_net.get_layer(\"convnet\")\n",
        "    .get_input_at(0), outputs=triplet_net.get_layer(\"convnet\").get_output_at(0))\n",
        "    return embedding_model"
      ],
      "execution_count": 0,
      "outputs": []
    },
    {
      "cell_type": "code",
      "metadata": {
        "id": "q1G1d26piq1u",
        "colab_type": "code",
        "colab": {}
      },
      "source": [
        "def get_negative_class(n_classes, anchor_class):\n",
        "    # Get random negative class.\n",
        "    negative_class = np.random.randint(0, n_classes)\n",
        "    # Get a new random negative class if the same class as the anchor is chosen.\n",
        "    while negative_class == anchor_class:\n",
        "        negative_class = np.random.randint(0, n_classes)\n",
        "    \n",
        "    return negative_class"
      ],
      "execution_count": 0,
      "outputs": []
    },
    {
      "cell_type": "code",
      "metadata": {
        "colab_type": "code",
        "id": "HcxMsmACAuOY",
        "colab": {}
      },
      "source": [
        "from sklearn.metrics.pairwise import euclidean_distances\n",
        "\n",
        "# Notice that the returned  1 * np.zeros(batch_size) is to by-pass some Keras \n",
        "# functionality, corresponding to ground_truth in tripletloss\n",
        "# We use a variable hard_selection to control which method we are going to use. \n",
        "# If we set hard_selection == False, we will select triplets random. \n",
        "# If we set the variable hard_selection == True, we will select hard triplets.\n",
        "\n",
        "# === COMPLETE CODE BELOW === \n",
        "def get_batch(X, batch_size=64, hard_selection=False, model=None):\n",
        "\n",
        "    if hard_selection:\n",
        "        embedding_model = get_embedding_model(model)\n",
        "\n",
        "    while True:\n",
        "        n_classes, n_examples, w, h = X.shape\n",
        "        # initialize result\n",
        "        triplets=[]\n",
        "\n",
        "        for i in range(batch_size):\n",
        "            triplet = [[],[],[]]\n",
        "            #Pick one random class for anchor\n",
        "            anchor_class = np.random.randint(0, n_classes)\n",
        "\n",
        "            #Pick two different random pics for this class => idx_A and idx_P\n",
        "            [idx_A, idx_P] = np.random.choice(n_examples, size=2, replace=False)\n",
        "\n",
        "            #Pick another class for negative, different from anchor_class\n",
        "            # === COMPLETE CODE BELOW === \n",
        "            negative_class = get_negative_class(n_classes, anchor_class)\n",
        "\n",
        "            if not hard_selection:\n",
        "                #Pick a random pic from this negative class => N\n",
        "                # === COMPLETE CODE BELOW ===   \n",
        "                idx_N = np.random.choice(n_examples, size=1)\n",
        "            else:\n",
        "                #Pick a hardest pic from this negative class => N\n",
        "                # === COMPLETE CODE BELOW ===   \n",
        "                anchor_embedding = embedding_model.predict(\n",
        "                    X[anchor_class, idx_A].reshape(1, w, h, 1))\n",
        "                negative_embedding = embedding_model.predict(\n",
        "                    X[negative_class].reshape(n_examples, w, h, 1))\n",
        "\n",
        "                dist = euclidean_distances(anchor_embedding, negative_embedding)\n",
        "                idx_N = np.argmin(dist)\n",
        "\n",
        "            triplet[0] = X[anchor_class][idx_A].reshape(w, h, 1)\n",
        "            triplet[1] = X[anchor_class][idx_P].reshape(w, h, 1)\n",
        "            triplet[2]=  X[negative_class][idx_N].reshape(w, h, 1)\n",
        "            triplets.append(triplet)\n",
        "\n",
        "        yield np.array(triplets), 1 * np.zeros(batch_size)"
      ],
      "execution_count": 0,
      "outputs": []
    },
    {
      "cell_type": "markdown",
      "metadata": {
        "colab_type": "text",
        "id": "LP1oojLhXD2z"
      },
      "source": [
        "### Task 2.4: One-shot learning with different selection method (2pt)"
      ]
    },
    {
      "cell_type": "markdown",
      "metadata": {
        "colab_type": "text",
        "id": "XHGJp45AR1qm"
      },
      "source": [
        "Function \"make_oneshot_task\" that can randomly setup such a one-shot task from a given test set (if a language is specified, using only classes/characters from that language), i.e. it will generate N pairs of images, where the first image is always the test image, and the second image is one of the N reference images. The pair of images from the same class will have target 1, all other targets are 0.\n",
        "\n",
        "The function \"test_oneshot\" will generate a number (k) of such one-shot tasks and evaluate the performance of a given model on these tasks; it reports the percentage of correctly classified test images\n",
        "\n",
        "In \"test_oneshot\", you can use embeddings extracted from the triplet network with L2-distance to evaluate one-shot learning. i.e. for a given one-shot task, obtain embeddings for the test image as well as the support set. Then pick the image from the support set that is closest (in L2-distance) to the test image as your one-shot prediction.\n",
        "\n",
        "*HINT you can re-use some code from practice 4b.4*"
      ]
    },
    {
      "cell_type": "code",
      "metadata": {
        "colab_type": "code",
        "id": "RBgoMDwMAuOh",
        "colab": {}
      },
      "source": [
        "def make_oneshot_task(N, X, c, language=None):\n",
        "    \"\"\"Create pairs of (test image, support set image) with ground truth, \n",
        "    for testing N-way one-shot learning.\"\"\"\n",
        "    n_classes, n_examples, w, h = X.shape\n",
        "    indices = np.random.randint(0, n_examples, size=(N,))\n",
        "    if language is not None:\n",
        "        low, high = c[language]\n",
        "        if N > high - low:\n",
        "            raise ValueError(\"This language ({}) has less than {} letters\"\n",
        "            .format(language, N))\n",
        "        categories = np.random.choice(range(low,high), size=(N,), replace=False)\n",
        "    else:  # if no language specified just pick a bunch of random letters\n",
        "        categories = np.random.choice(range(n_classes), size=(N,), replace=False)            \n",
        "    true_category = categories[0]\n",
        "    ex1, ex2 = np.random.choice(n_examples, replace=False, size=(2,))\n",
        "    test_image = np.asarray([X[true_category, ex1, :, :]]*N).reshape(N, w, h, 1)\n",
        "    support_set = X[categories, indices, :, :]\n",
        "    support_set[0, :, :] = X[true_category, ex2]\n",
        "    support_set = support_set.reshape(N, w, h, 1)\n",
        "    targets = np.zeros((N,))\n",
        "    targets[0] = 1\n",
        "    targets, test_image, support_set = shuffle(targets, test_image, support_set)\n",
        "    pairs = [test_image, support_set]\n",
        "    return pairs, targets"
      ],
      "execution_count": 0,
      "outputs": []
    },
    {
      "cell_type": "code",
      "metadata": {
        "colab_type": "code",
        "id": "rk5F3ffuAuOl",
        "colab": {}
      },
      "source": [
        "def test_oneshot(model, X, c, N=20, k=250, language=None):\n",
        "    # === COMPLETE CODE BELOW ===\n",
        "    n_correct = 0   \n",
        "\n",
        "    embedding_model = get_embedding_model(model)\n",
        "\n",
        "    for i in range(k):\n",
        "        inputs, targets = make_oneshot_task(N, X, c, language=language)\n",
        "\n",
        "        # All values of embeds are the same since inputs[0] contains the same\n",
        "        # picture N times.\n",
        "        embeds = embedding_model.predict(inputs[0])\n",
        "        preds = embedding_model.predict(inputs[1])\n",
        "        # Calculate the distance between the reference image's embedding and the\n",
        "        # support set image's embeddings. \n",
        "        distances = [tf.norm(x - y) for x, y in zip(embeds, preds)]\n",
        "        if tf.argmin(distances) == tf.argmax(targets):\n",
        "            n_correct += 1\n",
        "\n",
        "    return (100 * n_correct / k)"
      ],
      "execution_count": 0,
      "outputs": []
    },
    {
      "cell_type": "markdown",
      "metadata": {
        "colab_type": "text",
        "id": "u6yMu4jlXD26"
      },
      "source": [
        "With different triplets selecting method (random and hard), we will train our model and evaluate the model by one-shot learning accuracy.\n",
        "\n",
        "* You need to explicitly state the accuracy under different  triplets selecting method\n",
        "* When evaluating model with test_oneshot function, you should evaluate on 20 way one-shot task, and set the number (k) of evaluation one-shot tasks to be 250, then calculate the average accuracy\n",
        "\n",
        "*HINT: After training our model with random selection method, before train model under hard triplets selection, we should re-build our model (re-run the cell in Task 2.1) to initialize our model and prevent re-use the trained model of random selection*"
      ]
    },
    {
      "cell_type": "markdown",
      "metadata": {
        "colab_type": "text",
        "id": "snKKGhIoXD27"
      },
      "source": [
        "#### Evaluate one-shot learning with  random triplets selection"
      ]
    },
    {
      "cell_type": "code",
      "metadata": {
        "id": "NRabX5PTscs9",
        "colab_type": "code",
        "colab": {}
      },
      "source": [
        "def train(model, X_train, batch_size=64, steps_per_epoch=100, epochs=1,\n",
        "          hard_selection=False):\n",
        "    model.fit(get_batch(X_train, batch_size, hard_selection=hard_selection,\n",
        "                        model=model), \n",
        "              steps_per_epoch=steps_per_epoch, epochs=epochs)"
      ],
      "execution_count": 0,
      "outputs": []
    },
    {
      "cell_type": "code",
      "metadata": {
        "colab_type": "code",
        "id": "e-r2qB5dAuOt",
        "outputId": "7d5b740f-5354-4267-ee46-ff4493276f02",
        "colab": {
          "base_uri": "https://localhost:8080/",
          "height": 642
        }
      },
      "source": [
        "# hard_selection == False, select triplets randomly\n",
        "# Train our model and evaluate the model by one-shot learning accuracy.\n",
        "loops = 10\n",
        "best_acc = 0\n",
        "\n",
        "for i in range(loops):\n",
        "    print(\"=== Training loop {} ===\".format(i+1))\n",
        "    # === ADD CODE HERE ===\n",
        "    train(triplet_net, X_train, hard_selection=False)\n",
        "    test_acc = test_oneshot(triplet_net, X_test, c_test)\n",
        "    print(\"Current accuracy: {}\".format(test_acc))\n",
        "    if test_acc >= best_acc:\n",
        "        best_acc = test_acc\n",
        "        print(\"New best accuracy: {}\".format(best_acc))\n",
        "\n",
        "print(\"Final best accuracy: {}\".format(best_acc))"
      ],
      "execution_count": 0,
      "outputs": [
        {
          "output_type": "stream",
          "text": [
            "=== Training loop 1 ===\n",
            "100/100 [==============================] - 36s 359ms/step - loss: 24.2854\n",
            "Current accuracy: 48.0\n",
            "New best accuracy: 48.0\n",
            "=== Training loop 2 ===\n",
            "100/100 [==============================] - 36s 361ms/step - loss: 23.4234\n",
            "Current accuracy: 58.0\n",
            "New best accuracy: 58.0\n",
            "=== Training loop 3 ===\n",
            "100/100 [==============================] - 36s 356ms/step - loss: 22.3636\n",
            "Current accuracy: 62.0\n",
            "New best accuracy: 62.0\n",
            "=== Training loop 4 ===\n",
            "100/100 [==============================] - 36s 355ms/step - loss: 22.3798\n",
            "Current accuracy: 66.4\n",
            "New best accuracy: 66.4\n",
            "=== Training loop 5 ===\n",
            "100/100 [==============================] - 35s 355ms/step - loss: 22.5035\n",
            "Current accuracy: 63.6\n",
            "=== Training loop 6 ===\n",
            "100/100 [==============================] - 35s 355ms/step - loss: 22.4180\n",
            "Current accuracy: 64.0\n",
            "=== Training loop 7 ===\n",
            "100/100 [==============================] - 35s 354ms/step - loss: 21.5739\n",
            "Current accuracy: 62.4\n",
            "=== Training loop 8 ===\n",
            "100/100 [==============================] - 35s 355ms/step - loss: 22.5077\n",
            "Current accuracy: 65.2\n",
            "=== Training loop 9 ===\n",
            "100/100 [==============================] - 35s 354ms/step - loss: 21.4147\n",
            "Current accuracy: 68.4\n",
            "New best accuracy: 68.4\n",
            "=== Training loop 10 ===\n",
            "100/100 [==============================] - 35s 354ms/step - loss: 21.7836\n",
            "Current accuracy: 68.0\n",
            "Final best accuracy: 68.4\n"
          ],
          "name": "stdout"
        }
      ]
    },
    {
      "cell_type": "code",
      "metadata": {
        "id": "xYeEJTGtKwAB",
        "colab_type": "code",
        "colab": {}
      },
      "source": [
        "# Reset the weights\n",
        "triplet_net.set_weights(unlearned_params)"
      ],
      "execution_count": 0,
      "outputs": []
    },
    {
      "cell_type": "markdown",
      "metadata": {
        "colab_type": "text",
        "id": "YLlvr6TRXD2-"
      },
      "source": [
        "#### Evaluate one-shot learning with  hard triplets selection"
      ]
    },
    {
      "cell_type": "code",
      "metadata": {
        "colab_type": "code",
        "id": "CN_IDkRHqjb5",
        "outputId": "5712e5ba-f86a-4832-ac52-75af6655df35",
        "colab": {
          "base_uri": "https://localhost:8080/",
          "height": 660
        }
      },
      "source": [
        "# hard_selection == True, select hard triplets\n",
        "# Train our model and evaluate the model by one-shot learning accuracy.\n",
        "loops = 10\n",
        "best_acc = 0\n",
        "\n",
        "for i in range(loops):\n",
        "    print(\"=== Training loop {} ===\".format(i+1))\n",
        "    # === ADD CODE HERE ===\n",
        "    train(triplet_net, X_train, hard_selection=True)\n",
        "    test_acc = test_oneshot(triplet_net, X_test, c_test)\n",
        "    print(\"Current accuracy: {}\".format(test_acc))\n",
        "    if test_acc >= best_acc:\n",
        "        best_acc = test_acc\n",
        "        print(\"New best accuracy: {}\".format(best_acc))\n",
        "\n",
        "print(\"Final best accuracy: {}\".format(best_acc))"
      ],
      "execution_count": 0,
      "outputs": [
        {
          "output_type": "stream",
          "text": [
            "=== Training loop 1 ===\n",
            "100/100 [==============================] - 655s 7s/step - loss: 45.7904\n",
            "Current accuracy: 62.8\n",
            "New best accuracy: 62.8\n",
            "=== Training loop 2 ===\n",
            "100/100 [==============================] - 658s 7s/step - loss: 42.1176\n",
            "Current accuracy: 71.2\n",
            "New best accuracy: 71.2\n",
            "=== Training loop 3 ===\n",
            "100/100 [==============================] - 664s 7s/step - loss: 37.7094\n",
            "Current accuracy: 73.6\n",
            "New best accuracy: 73.6\n",
            "=== Training loop 4 ===\n",
            "100/100 [==============================] - 650s 7s/step - loss: 37.5147\n",
            "Current accuracy: 72.4\n",
            "=== Training loop 5 ===\n",
            "100/100 [==============================] - 648s 6s/step - loss: 35.2829\n",
            "Current accuracy: 72.0\n",
            "=== Training loop 6 ===\n",
            "100/100 [==============================] - 647s 6s/step - loss: 33.3048\n",
            "Current accuracy: 70.0\n",
            "=== Training loop 7 ===\n",
            "100/100 [==============================] - 681s 7s/step - loss: 33.2560\n",
            "Current accuracy: 74.0\n",
            "New best accuracy: 74.0\n",
            "=== Training loop 8 ===\n",
            "100/100 [==============================] - 679s 7s/step - loss: 32.2187\n",
            "Current accuracy: 78.4\n",
            "New best accuracy: 78.4\n",
            "=== Training loop 9 ===\n",
            "100/100 [==============================] - 673s 7s/step - loss: 31.7669\n",
            "Current accuracy: 75.6\n",
            "=== Training loop 10 ===\n",
            "100/100 [==============================] - 678s 7s/step - loss: 31.7224\n",
            "Current accuracy: 78.8\n",
            "New best accuracy: 78.8\n",
            "Final best accuracy: 78.8\n"
          ],
          "name": "stdout"
        }
      ]
    },
    {
      "cell_type": "markdown",
      "metadata": {
        "id": "e4aWNzDOBVyM",
        "colab_type": "text"
      },
      "source": [
        "# Task 3 - Peer review (0 pt):\n",
        "Finally, each group member must write a single paragraph outlining their opinion on the work distribution within the group. Did every group member\n",
        "contribute equally? Did you split up tasks in a fair manner, or jointly worked through the exercises. Do you think that some members of your group deserve a different grade from others? You can use the table below to make an overview of how the tasks were divided:"
      ]
    },
    {
      "cell_type": "markdown",
      "metadata": {
        "id": "jjhpkFhyBXs8",
        "colab_type": "text"
      },
      "source": [
        "__Luc__: Gerrit did assignment 2.1 and I did assignment 2.2. I think we split the work fairly. We both evaluated eachother's work and improved where needed. For these reasons I think we deserve the same grade.\n",
        "\n",
        "__Gerrit__: We distributed the tasks evenly. Luc worked on Question 2 and I worked on Question 1. Once, we were both done with our parts we shared the notebooks with each other and discussed the results. Hence, the workload was split up in a fair manner and we both deserve the same grade."
      ]
    }
  ]
}